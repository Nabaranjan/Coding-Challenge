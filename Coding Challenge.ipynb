{
 "cells": [
  {
   "cell_type": "code",
   "execution_count": 1,
   "id": "df2d2163-58dd-4460-8d28-5cff0c957471",
   "metadata": {},
   "outputs": [
    {
     "name": "stdin",
     "output_type": "stream",
     "text": [
      "Enter the mathematical expression 89**25-265+369/5\n"
     ]
    },
    {
     "name": "stdout",
     "output_type": "stream",
     "text": [
      "the result of the expression is 5.429379091346464e+48\n",
      "thankyou for participating in the maths competition\n"
     ]
    }
   ],
   "source": [
    "expression = input(\"Enter the mathematical expression\")\n",
    "result = eval(expression)\n",
    "print (\"the result of the expression is\", result)\n",
    "print(\"thankyou for participating in the maths competition\")"
   ]
  },
  {
   "cell_type": "code",
   "execution_count": 13,
   "id": "ab2d770e-b91c-451f-a681-c33c501139ab",
   "metadata": {},
   "outputs": [
    {
     "name": "stdin",
     "output_type": "stream",
     "text": [
      "user 1 enter the size of the house 5000\n",
      "user 1 enter the number of bedrooms 2\n",
      "user 1 enter the budget 500000\n",
      "user 2 enter the size of the house 5000\n",
      "user 2 enter the number of bedrooms 2\n",
      "user 2 enter the budget 800000\n"
     ]
    },
    {
     "name": "stdout",
     "output_type": "stream",
     "text": [
      "the price of the house for user 1 is 25000000.0\n",
      "the price of the house for user 2 is 25000000.0\n",
      " user1 is paying above threshold {True}\n",
      " user2 is paying above threshold {True}\n"
     ]
    }
   ],
   "source": [
    "house_size_1 = float(input(\"user 1 enter the size of the house\"))\n",
    "bedrooms_1 = int(input(\"user 1 enter the number of bedrooms\"))\n",
    "price_1 = float(input(\"user 1 enter the budget\"))\n",
    "\n",
    "house_size_2 = float(input(\"user 2 enter the size of the house\"))\n",
    "bedrooms_2 = int(input(\"user 2 enter the number of bedrooms\"))\n",
    "price_2 = float(input(\"user 2 enter the budget\"))\n",
    "\n",
    "house_price_1 = house_size_1 * 5000\n",
    "print(\"the price of the house for user 1 is\", house_price_1)\n",
    "\n",
    "house_price_2 = house_size_2 * 5000\n",
    "print(\"the price of the house for user 2 is\", house_price_2)\n",
    "\n",
    "threshold_price = 7500000\n",
    "user1_threshold = house_price_1 >= threshold_price\n",
    "user2_threshold = house_price_2 >= threshold_price\n",
    "\n",
    "print(f\" user1 is paying above threshold\",{user1_threshold})\n",
    "print(f\" user2 is paying above threshold\",{user2_threshold})"
   ]
  },
  {
   "cell_type": "code",
   "execution_count": 17,
   "id": "0b0f34cd-67c0-4b12-bffd-637b32b80ff3",
   "metadata": {},
   "outputs": [
    {
     "name": "stdout",
     "output_type": "stream",
     "text": [
      "the new price of the stock is 110.00000000000001\n"
     ]
    },
    {
     "name": "stdin",
     "output_type": "stream",
     "text": [
      "enter your budget 75\n"
     ]
    },
    {
     "name": "stdout",
     "output_type": "stream",
     "text": [
      "user budget is greater than new price False\n"
     ]
    }
   ],
   "source": [
    "stock_symbol = \"xyz\"\n",
    "current_price = 100\n",
    "percent_change = 10\n",
    "\n",
    "new_price = current_price*(1+percent_change/100)\n",
    "\n",
    "print(\"the new price of the stock is\", new_price)\n",
    "user_budget = int(input(\"enter your budget\"))\n",
    "\n",
    "a = user_budget >= new_price\n",
    "print(\"user budget is greater than new price\", a)"
   ]
  },
  {
   "cell_type": "code",
   "execution_count": null,
   "id": "44ccaac2-a920-4392-a5dd-e38ec39ef1fe",
   "metadata": {},
   "outputs": [],
   "source": []
  }
 ],
 "metadata": {
  "kernelspec": {
   "display_name": "Python 3 (ipykernel)",
   "language": "python",
   "name": "python3"
  },
  "language_info": {
   "codemirror_mode": {
    "name": "ipython",
    "version": 3
   },
   "file_extension": ".py",
   "mimetype": "text/x-python",
   "name": "python",
   "nbconvert_exporter": "python",
   "pygments_lexer": "ipython3",
   "version": "3.11.5"
  }
 },
 "nbformat": 4,
 "nbformat_minor": 5
}
